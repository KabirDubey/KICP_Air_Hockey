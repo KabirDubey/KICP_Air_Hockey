{
 "cells": [
  {
   "cell_type": "code",
   "execution_count": 3,
   "metadata": {},
   "outputs": [],
   "source": [
    "import numpy as np "
   ]
  },
  {
   "cell_type": "code",
   "execution_count": null,
   "metadata": {},
   "outputs": [],
   "source": [
    "# Minimum y position the robot can go to\n",
    "min_defense_position = 160\n",
    "# Maximum y position\n",
    "max_defense_position = 200\n",
    "# Start the robot at the minimum y position\n",
    "y_position = min_defense_position\n",
    "# increment tracks the direction of y motion. Positive increases y, negative decreases y.\n",
    "increment = 1"
   ]
  },
  {
   "cell_type": "code",
   "execution_count": null,
   "metadata": {},
   "outputs": [],
   "source": [
    "# This example algorithm will follow the puck in the X direction, and oscillate slowly in the Y direction\n",
    "# The five variables obtained from the vision program in c++ is fed to this function\n",
    "# The function will tell what the robot to do through the 6 output variables (last line of the function 'returns' the outputs)\n",
    "example_function(cam_timestamp, puckCoordX, puckCoordY, robotCoordX, robotCoordY)\n",
    "    \n",
    "    # y_position and increment needs to be updated in this function and used across different times. Need to be global\n",
    "    global y_position, increment\n",
    "    \n",
    "    # x position simply follows the puck\n",
    "    target_x_new = puckCoordX\n",
    "    # set to previously updated y_position\n",
    "    target_y_new = y_position\n",
    "    \n",
    "    # update y_position for the next time\n",
    "    y_position = y_position + increment\n",
    "    # change the direction of y motion to smaller y if at maximum defense position\n",
    "    if y_position >= max_defense_position:\n",
    "    \tincrement = -1\n",
    "    # change the direction of y motion to larger y if at minimum defense position\n",
    "    if y_position <= min_defense_position:\n",
    "    \tincrement = 1\n",
    "    \t\n",
    "    max_speed = 20000\n",
    "    max_accel = 150\n",
    "    \n",
    "    return target_x_new, target_y_new, max_speed, max_accel, robotCoordX, robotCoordY"
   ]
  },
  {
   "cell_type": "code",
   "execution_count": null,
   "metadata": {},
   "outputs": [],
   "source": [
    "# MODIFIED TO SEND DATA TO NUMPY BINARY FILE; first bit is the most recent measurement\n",
    "\n",
    "\n",
    "# You do NOT have to change ANY code below, unless you want to name your control algorithm function different from 'example_function'. Then you can change 'example_function' below into your own function.\n",
    "# The PORT should match port1 or port2 in vision.cpp for communication to be successful.\n",
    "HOST = \"127.0.0.1\"  # This is the standard address for describing the device itself (localhost) rather than another host on the internet or other networks\n",
    "PORT = 65431  # Port to listen on (non-privileged ports are > 1023)\n",
    "\n",
    "with socket.socket(socket.AF_INET, socket.SOCK_STREAM) as s:\n",
    "    s.bind((HOST, PORT))\n",
    "    s.listen()\n",
    "    conn, addr = s.accept()\n",
    "    with conn:\n",
    "        print(f\"Connected by {addr}\")\n",
    "        timer_packet_old = 0\n",
    "        while True:\n",
    "            data = conn.recv(13)\n",
    "            if not data:\n",
    "                break\n",
    "            bti = lambda x: int.from_bytes(data[x:x+2], 'big', signed=True) # Bytes to integers.\n",
    "            cam_timestamp, puckCoordX, puckCoordY, robotCoordX, robotCoordY = bti(3), bti(5), bti(7), bti(9), bti(11)\n",
    "            \n",
    "            # An example function that uses the input information from the vision system to determine where the robot should go next\n",
    "            target_x_new, target_y_new, max_speed, max_accel, robotCoordX, robotCoordY = example_function(cam_timestamp, puckCoordX, puckCoordY, robotCoordX, robotCoordY)\n",
    "            \n",
    "            data = b'mm2' + itb(target_x_new) + itb(target_y_new) + itb(max_speed) + itb(max_accel) + itb(robotCoordX) + itb(robotCoordY)\n",
    "        \n",
    "            conn.sendall(data)\n",
    "            \n",
    "            print(\"x: {}, y: {}, s: {}, a: {}, rx: {}, ry: {}\".format(target_x_new, target_y_new, max_speed, max_accel, robotCoordX, robotCoordY))\n",
    "            \n",
    "            with open('data.npy', 'ab+') as f:\n",
    "                np.save(f, data)"
   ]
  }
 ],
 "metadata": {
  "kernelspec": {
   "display_name": "Python 3",
   "language": "python",
   "name": "python3"
  },
  "language_info": {
   "codemirror_mode": {
    "name": "ipython",
    "version": 3
   },
   "file_extension": ".py",
   "mimetype": "text/x-python",
   "name": "python",
   "nbconvert_exporter": "python",
   "pygments_lexer": "ipython3",
   "version": "3.8.3"
  }
 },
 "nbformat": 4,
 "nbformat_minor": 4
}
