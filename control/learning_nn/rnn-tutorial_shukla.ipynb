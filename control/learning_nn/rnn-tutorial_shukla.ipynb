{
 "cells": [
  {
   "cell_type": "code",
   "execution_count": null,
   "metadata": {},
   "outputs": [],
   "source": [
    "import numpy as np\n",
    "import tensorflow as tf\n",
    "from tensorflow.contrib import rnn"
   ]
  },
  {
   "cell_type": "code",
   "execution_count": null,
   "metadata": {},
   "outputs": [],
   "source": [
    "class SeriesPredictor:\n",
    "    \n",
    "     def __init__(self, input_dim, seq_size, hidden_dim=10):\n",
    "        \n",
    "        # hyperparameters\n",
    "        self.input_dim = input_dim\n",
    "        self.seq_size = seq_size\n",
    "        self.hidden_dim = hidden_dim\n",
    "        \n",
    "        # weight variables and input placeholders\n",
    "        self.W_out = tf.Variable(tf.random_normal([hidden_dim, 1]), \n",
    "                                 name = 'W_out')\n",
    "        self.b_out = tf.Variable(tf.random_normal([1]), name='b_out')\n",
    "        self.x = tf.placeholder(tf.float32, [None, seq_size, input-dim])\n",
    "        self.y = tf.placeholder(tf.float32, [None, seq_size])\n",
    "        \n",
    "        # cost optimizer\n",
    "        self.cost = tf.reduce_mean(tf.square(self.model()-self.y))\n",
    "        self.train_op = tf.train.AdamOptimizer(minimize(self.cost))\n",
    "        \n",
    "        # auxiliary ops\n",
    "        self.saver = tf.train.Saver()\n",
    "        "
   ]
  },
  {
   "cell_type": "code",
   "execution_count": null,
   "metadata": {},
   "outputs": [],
   "source": [
    "# RNN model using LSTM\n",
    "\n",
    "def model(self):\n",
    "    \"\"\"\n",
    "    :param x: inputs of size [T, batch_size, input-size]\n",
    "    :param W: matrix of fully-connected output layer weights\n",
    "    :param b: vector of fully-connected output layer biases\n",
    "    \"\"\"\n",
    "    \n",
    "    # creates LSTM cell\n",
    "    cell = rnn.BasicLSTMCell(self.hidden_dim)\n",
    "    \n",
    "    # runs the cell on the input to obtain outputs and states tensors\n",
    "    outputs, states = tf.nn.dynamic_rnn(cell, self.x, dtype=tf.float32)\n",
    "    num_examples = tf.shape(self.x)[0]\n",
    "    \n",
    "    # computes the output layer as a fully connected linear function\n",
    "    W_repeated = tf.tile(tf.expand_dims(self.W_out, 0), [num_examples, 1, 1])\n",
    "    out = tf.matmul(outputs, W_repeated) + self.b_out\n",
    "    out = tf.squeeze(out)\n",
    "    return out"
   ]
  }
 ],
 "metadata": {
  "kernelspec": {
   "display_name": "Python 3",
   "language": "python",
   "name": "python3"
  },
  "language_info": {
   "codemirror_mode": {
    "name": "ipython",
    "version": 3
   },
   "file_extension": ".py",
   "mimetype": "text/x-python",
   "name": "python",
   "nbconvert_exporter": "python",
   "pygments_lexer": "ipython3",
   "version": "3.8.3"
  }
 },
 "nbformat": 4,
 "nbformat_minor": 4
}
